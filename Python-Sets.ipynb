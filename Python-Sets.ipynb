{
 "cells": [
  {
   "cell_type": "code",
   "execution_count": 2,
   "id": "e0345bf5",
   "metadata": {},
   "outputs": [
    {
     "name": "stdout",
     "output_type": "stream",
     "text": [
      "{1, 2, 3, 4, 5, 6, 7, 8, 9}\n"
     ]
    }
   ],
   "source": [
    "#sets\n",
    "mySet1={1,2,3,4,5,6,7,8,9}\n",
    "print(mySet1)"
   ]
  },
  {
   "cell_type": "code",
   "execution_count": 3,
   "id": "26300b85",
   "metadata": {},
   "outputs": [
    {
     "name": "stdout",
     "output_type": "stream",
     "text": [
      "9\n"
     ]
    }
   ],
   "source": [
    "print(len(mySet1))"
   ]
  },
  {
   "cell_type": "code",
   "execution_count": 5,
   "id": "00a1e68e",
   "metadata": {},
   "outputs": [
    {
     "name": "stdout",
     "output_type": "stream",
     "text": [
      "<class 'set'>\n"
     ]
    }
   ],
   "source": [
    "print(type(mySet1))"
   ]
  },
  {
   "cell_type": "code",
   "execution_count": 8,
   "id": "f96ad807",
   "metadata": {},
   "outputs": [
    {
     "name": "stdout",
     "output_type": "stream",
     "text": [
      "Aditya\n",
      "Ravi\n",
      "Bangare\n"
     ]
    }
   ],
   "source": [
    "mySet2={\"Aditya\",\"Ravi\",\"Bangare\"}\n",
    "for i in mySet2:\n",
    "    print(i)"
   ]
  },
  {
   "cell_type": "code",
   "execution_count": 10,
   "id": "3d262e55",
   "metadata": {},
   "outputs": [
    {
     "name": "stdout",
     "output_type": "stream",
     "text": [
      "True\n"
     ]
    }
   ],
   "source": [
    "print(\"Aditya\" in mySet2)"
   ]
  },
  {
   "cell_type": "code",
   "execution_count": 17,
   "id": "1c8b48d8",
   "metadata": {},
   "outputs": [
    {
     "name": "stdout",
     "output_type": "stream",
     "text": [
      "{'Aditya', 'Ravi', 'Bangare', 'MCA'}\n"
     ]
    }
   ],
   "source": [
    "mySet2.add(\"MCA\")\n",
    "print(mySet2)"
   ]
  },
  {
   "cell_type": "code",
   "execution_count": 19,
   "id": "ccfd7b33",
   "metadata": {},
   "outputs": [
    {
     "name": "stdout",
     "output_type": "stream",
     "text": [
      "{'BMW', 'Audi', 'Aditya', 'pune', 'Ravi', 'Bangare', 'First_year', 'MCA'}\n"
     ]
    }
   ],
   "source": [
    "mySet3={\"pune\",\"First_year\",\"BMW\",\"Audi\"}\n",
    "mySet2.update(mySet3)\n",
    "print(mySet2)"
   ]
  },
  {
   "cell_type": "code",
   "execution_count": 24,
   "id": "24fb74c8",
   "metadata": {},
   "outputs": [
    {
     "name": "stdout",
     "output_type": "stream",
     "text": [
      "{'BMW', 'Audi', 'Aditya', 'pune', 'Ravi', 'Bangare'}\n"
     ]
    }
   ],
   "source": [
    "mySet2.remove(\"MCA\")\n",
    "print(mySet2)"
   ]
  },
  {
   "cell_type": "code",
   "execution_count": 26,
   "id": "30fb6372",
   "metadata": {},
   "outputs": [
    {
     "name": "stdout",
     "output_type": "stream",
     "text": [
      "{'BMW', 'Audi', 'Aditya', 'Ravi', 'Bangare'}\n"
     ]
    }
   ],
   "source": [
    "mySet2.discard(\"pune\")\n",
    "print(mySet2)"
   ]
  },
  {
   "cell_type": "code",
   "execution_count": 28,
   "id": "fe79ecda",
   "metadata": {},
   "outputs": [
    {
     "ename": "KeyError",
     "evalue": "'ABC'",
     "output_type": "error",
     "traceback": [
      "\u001b[1;31m---------------------------------------------------------------------------\u001b[0m",
      "\u001b[1;31mKeyError\u001b[0m                                  Traceback (most recent call last)",
      "Input \u001b[1;32mIn [28]\u001b[0m, in \u001b[0;36m<cell line: 2>\u001b[1;34m()\u001b[0m\n\u001b[0;32m      1\u001b[0m \u001b[38;5;66;03m# remove() method gives an error if element is not present in set\u001b[39;00m\n\u001b[1;32m----> 2\u001b[0m \u001b[43mmySet2\u001b[49m\u001b[38;5;241;43m.\u001b[39;49m\u001b[43mremove\u001b[49m\u001b[43m(\u001b[49m\u001b[38;5;124;43m\"\u001b[39;49m\u001b[38;5;124;43mABC\u001b[39;49m\u001b[38;5;124;43m\"\u001b[39;49m\u001b[43m)\u001b[49m\n\u001b[0;32m      3\u001b[0m \u001b[38;5;28mprint\u001b[39m(mySet2)\n",
      "\u001b[1;31mKeyError\u001b[0m: 'ABC'"
     ]
    }
   ],
   "source": [
    "# remove() method gives an error if remove element is not present in set\n",
    "mySet2.remove(\"ABC\")\n",
    "print(mySet2) "
   ]
  },
  {
   "cell_type": "code",
   "execution_count": 30,
   "id": "c6aefac3",
   "metadata": {},
   "outputs": [
    {
     "name": "stdout",
     "output_type": "stream",
     "text": [
      "{'BMW', 'Audi', 'Aditya', 'Ravi', 'Bangare'}\n"
     ]
    }
   ],
   "source": [
    "# discard() method does not show error if element not present in memory \n",
    "mySet2.discard(\"ABC\")\n",
    "print(mySet2)"
   ]
  },
  {
   "cell_type": "code",
   "execution_count": 32,
   "id": "46dbf479",
   "metadata": {},
   "outputs": [
    {
     "name": "stdout",
     "output_type": "stream",
     "text": [
      "{'Aditya', 'Ravi', 'Bangare'}\n"
     ]
    }
   ],
   "source": [
    "mySet2.pop() #sets are unordered so we will not know what item gets remove\n",
    "print(mySet2)"
   ]
  },
  {
   "cell_type": "code",
   "execution_count": 34,
   "id": "aa3385db",
   "metadata": {},
   "outputs": [
    {
     "name": "stdout",
     "output_type": "stream",
     "text": [
      "set()\n"
     ]
    }
   ],
   "source": [
    "mySet3={1,2,3,4,5,6}\n",
    "mySet3.clear()\n",
    "print(mySet3)"
   ]
  },
  {
   "cell_type": "code",
   "execution_count": 37,
   "id": "65db28f4",
   "metadata": {},
   "outputs": [
    {
     "ename": "NameError",
     "evalue": "name 'mySet4' is not defined",
     "output_type": "error",
     "traceback": [
      "\u001b[1;31m---------------------------------------------------------------------------\u001b[0m",
      "\u001b[1;31mNameError\u001b[0m                                 Traceback (most recent call last)",
      "Input \u001b[1;32mIn [37]\u001b[0m, in \u001b[0;36m<cell line: 4>\u001b[1;34m()\u001b[0m\n\u001b[0;32m      2\u001b[0m mySet4\u001b[38;5;241m=\u001b[39m{\u001b[38;5;241m1\u001b[39m,\u001b[38;5;241m2\u001b[39m,\u001b[38;5;241m3\u001b[39m,\u001b[38;5;241m4\u001b[39m,\u001b[38;5;241m5\u001b[39m,\u001b[38;5;241m6\u001b[39m}\n\u001b[0;32m      3\u001b[0m \u001b[38;5;28;01mdel\u001b[39;00m mySet4\n\u001b[1;32m----> 4\u001b[0m \u001b[38;5;28mprint\u001b[39m(\u001b[43mmySet4\u001b[49m)\n",
      "\u001b[1;31mNameError\u001b[0m: name 'mySet4' is not defined"
     ]
    }
   ],
   "source": [
    "#it will give error because we are deleting set\n",
    "mySet4={1,2,3,4,5,6}\n",
    "del mySet4\n",
    "print(mySet4)"
   ]
  },
  {
   "cell_type": "code",
   "execution_count": 39,
   "id": "cea70399",
   "metadata": {},
   "outputs": [
    {
     "name": "stdout",
     "output_type": "stream",
     "text": [
      "{1, 2, 3, 4, 5, 6, 7, 8, 9, 10, 11, 12}\n"
     ]
    }
   ],
   "source": [
    "#union will combine both sets\n",
    "set1={1,2,3,4,5,6}\n",
    "set2={7,8,9,10,11,12}\n",
    "set3=set1.union(set2)\n",
    "print(set3)"
   ]
  },
  {
   "cell_type": "code",
   "execution_count": 44,
   "id": "35a123b9",
   "metadata": {},
   "outputs": [
    {
     "name": "stdout",
     "output_type": "stream",
     "text": [
      "{'d', 'c'}\n"
     ]
    }
   ],
   "source": [
    "#intersection will return items that are present in both sets\n",
    "set_A={'a','b','c','d'}\n",
    "set_B={'c','d','e','f'}\n",
    "x=set_A.intersection(set_B)\n",
    "print(x)"
   ]
  },
  {
   "cell_type": "code",
   "execution_count": 46,
   "id": "884b6196",
   "metadata": {},
   "outputs": [
    {
     "name": "stdout",
     "output_type": "stream",
     "text": [
      "{1, 2, 3, 4, 9, 10, 11}\n"
     ]
    }
   ],
   "source": [
    "#symmetric difference will return items that are present in only one set\n",
    "set1={1,2,3,4,5,6,7,8}\n",
    "set2={5,6,7,8,9,10,11}\n",
    "x=set1.symmetric_difference(set2)\n",
    "print(x)"
   ]
  },
  {
   "cell_type": "code",
   "execution_count": 47,
   "id": "86b1c173",
   "metadata": {},
   "outputs": [
    {
     "name": "stdout",
     "output_type": "stream",
     "text": [
      "{1, 2, 3, 4, 5, 6}\n"
     ]
    }
   ],
   "source": [
    "mySet={1,2,3,4,5,6}\n",
    "x=mySet.copy()\n",
    "print(x)"
   ]
  }
 ],
 "metadata": {
  "kernelspec": {
   "display_name": "Python 3 (ipykernel)",
   "language": "python",
   "name": "python3"
  },
  "language_info": {
   "codemirror_mode": {
    "name": "ipython",
    "version": 3
   },
   "file_extension": ".py",
   "mimetype": "text/x-python",
   "name": "python",
   "nbconvert_exporter": "python",
   "pygments_lexer": "ipython3",
   "version": "3.9.12"
  }
 },
 "nbformat": 4,
 "nbformat_minor": 5
}
