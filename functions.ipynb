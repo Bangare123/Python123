{
 "cells": [
  {
   "cell_type": "code",
   "execution_count": null,
   "id": "fd3bf07c",
   "metadata": {},
   "outputs": [],
   "source": [
    "#functions \n",
    "#syntax= def function_name(parameters):\n",
    "#            \"Docstring\"\n",
    "#            body of functions\n",
    "#            return expresssion\n",
    "\n",
    "\n",
    "#think about return type\n",
    "#    body of functionns\n",
    "#    return expressionn"
   ]
  },
  {
   "cell_type": "code",
   "execution_count": 2,
   "id": "093e758c",
   "metadata": {},
   "outputs": [
    {
     "name": "stdout",
     "output_type": "stream",
     "text": [
      "Hello SFS\n",
      "Hello SFS\n"
     ]
    }
   ],
   "source": [
    "def fun():\n",
    "    print(\"Hello SFS\")\n",
    "fun()\n",
    "fun()"
   ]
  },
  {
   "cell_type": "code",
   "execution_count": 20,
   "id": "4656f378",
   "metadata": {},
   "outputs": [
    {
     "name": "stdout",
     "output_type": "stream",
     "text": [
      "ans= 19\n"
     ]
    }
   ],
   "source": [
    "def add(num1:int,num2:int):\n",
    "    num3=num1+num2\n",
    "    return num3\n",
    "num1,num2=4,15\n",
    "ans=add(num1,num2)\n",
    "print(\"ans=\",ans)"
   ]
  },
  {
   "cell_type": "code",
   "execution_count": 16,
   "id": "f30ec90f",
   "metadata": {},
   "outputs": [
    {
     "data": {
      "text/plain": [
       "-800"
      ]
     },
     "execution_count": 16,
     "metadata": {},
     "output_type": "execute_result"
    }
   ],
   "source": [
    "add(-200,-600)"
   ]
  },
  {
   "cell_type": "code",
   "execution_count": 12,
   "id": "40fc6727",
   "metadata": {},
   "outputs": [
    {
     "data": {
      "text/plain": [
       "19"
      ]
     },
     "execution_count": 12,
     "metadata": {},
     "output_type": "execute_result"
    }
   ],
   "source": [
    "add(20,20)"
   ]
  },
  {
   "cell_type": "code",
   "execution_count": 19,
   "id": "9c9ea2c2",
   "metadata": {},
   "outputs": [
    {
     "data": {
      "text/plain": [
       "700"
      ]
     },
     "execution_count": 19,
     "metadata": {},
     "output_type": "execute_result"
    }
   ],
   "source": [
    "add(200,500)"
   ]
  },
  {
   "cell_type": "code",
   "execution_count": 3,
   "id": "591d7718",
   "metadata": {},
   "outputs": [],
   "source": [
    "def sub(num1:int,num2:int):\n",
    "    num3=num1-num2\n",
    "    return num3  #return gives a only value itself, if we want our output statement then use print"
   ]
  },
  {
   "cell_type": "code",
   "execution_count": 4,
   "id": "d83fd05c",
   "metadata": {},
   "outputs": [
    {
     "data": {
      "text/plain": [
       "5"
      ]
     },
     "execution_count": 4,
     "metadata": {},
     "output_type": "execute_result"
    }
   ],
   "source": [
    "sub(10,5)"
   ]
  },
  {
   "cell_type": "code",
   "execution_count": 25,
   "id": "8bcddc98",
   "metadata": {},
   "outputs": [
    {
     "data": {
      "text/plain": [
       "5"
      ]
     },
     "execution_count": 25,
     "metadata": {},
     "output_type": "execute_result"
    }
   ],
   "source": [
    "sub(10,5)"
   ]
  },
  {
   "cell_type": "code",
   "execution_count": 40,
   "id": "e1f5ca3f",
   "metadata": {},
   "outputs": [
    {
     "data": {
      "text/plain": [
       "9"
      ]
     },
     "execution_count": 40,
     "metadata": {},
     "output_type": "execute_result"
    }
   ],
   "source": [
    "sub(10,1)"
   ]
  },
  {
   "cell_type": "code",
   "execution_count": 6,
   "id": "b698864d",
   "metadata": {},
   "outputs": [],
   "source": [
    "def sub(num1:int,num2:int):\n",
    "    num3=num1-num2\n",
    "    print(\"ans= \",num3)   #return gives a only value itself, if we want our output statement then use print"
   ]
  },
  {
   "cell_type": "code",
   "execution_count": 7,
   "id": "cd37aa3b",
   "metadata": {},
   "outputs": [
    {
     "name": "stdout",
     "output_type": "stream",
     "text": [
      "ans=  498\n"
     ]
    }
   ],
   "source": [
    "sub(587,89)"
   ]
  },
  {
   "cell_type": "code",
   "execution_count": 35,
   "id": "38f883d2",
   "metadata": {},
   "outputs": [],
   "source": [
    "def vowel_count(s):\n",
    "    vowels=\"AEIOUaeiou\"\n",
    "    vc=0\n",
    "    for ch in s:\n",
    "        if ch in vowels:\n",
    "            vc+=1\n",
    "    return vc"
   ]
  },
  {
   "cell_type": "code",
   "execution_count": 36,
   "id": "4fd3fafb",
   "metadata": {},
   "outputs": [
    {
     "data": {
      "text/plain": [
       "15"
      ]
     },
     "execution_count": 36,
     "metadata": {},
     "output_type": "execute_result"
    }
   ],
   "source": [
    "vowel_count(\"Hello this is python class and this is Aditya R Bangare\")"
   ]
  },
  {
   "cell_type": "code",
   "execution_count": 11,
   "id": "764dee8a",
   "metadata": {},
   "outputs": [],
   "source": [
    "def addition():\n",
    "    num1=int(input(\"Enter number: \"))\n",
    "    num2=int(input(\"Enter number: \"))\n",
    "    num3=num1+num2\n",
    "    print(\"ans: \",num3)"
   ]
  },
  {
   "cell_type": "code",
   "execution_count": 15,
   "id": "e7df02c5",
   "metadata": {},
   "outputs": [
    {
     "name": "stdout",
     "output_type": "stream",
     "text": [
      "Enter number: 3598674\n",
      "Enter number: 9869746\n",
      "ans:  13468420\n"
     ]
    }
   ],
   "source": [
    "addition()"
   ]
  },
  {
   "cell_type": "code",
   "execution_count": null,
   "id": "6481593a",
   "metadata": {},
   "outputs": [],
   "source": [
    "def ():\n",
    "    num1"
   ]
  },
  {
   "cell_type": "code",
   "execution_count": 2,
   "id": "0b58c194",
   "metadata": {},
   "outputs": [],
   "source": [
    "def even_odd(x):\n",
    "    if(x%2==0):\n",
    "        print(\"Even\")\n",
    "    else:\n",
    "        print(\"Odd\")"
   ]
  },
  {
   "cell_type": "code",
   "execution_count": 4,
   "id": "df37d16c",
   "metadata": {},
   "outputs": [
    {
     "name": "stdout",
     "output_type": "stream",
     "text": [
      "Odd\n"
     ]
    }
   ],
   "source": [
    "even_odd(5)"
   ]
  },
  {
   "cell_type": "code",
   "execution_count": 5,
   "id": "852fecd1",
   "metadata": {},
   "outputs": [
    {
     "name": "stdout",
     "output_type": "stream",
     "text": [
      "Even\n"
     ]
    }
   ],
   "source": [
    "even_odd(4)"
   ]
  },
  {
   "cell_type": "code",
   "execution_count": 7,
   "id": "29a36999",
   "metadata": {},
   "outputs": [],
   "source": [
    "def myFunction(x,y=13):\n",
    "    print(\"x: \",x)\n",
    "    print(\"y: \",y)"
   ]
  },
  {
   "cell_type": "code",
   "execution_count": 9,
   "id": "0466bc40",
   "metadata": {},
   "outputs": [
    {
     "name": "stdout",
     "output_type": "stream",
     "text": [
      "x:  1\n",
      "y:  13\n"
     ]
    }
   ],
   "source": [
    "myFunction(1)"
   ]
  },
  {
   "cell_type": "code",
   "execution_count": 11,
   "id": "c2b6744b",
   "metadata": {},
   "outputs": [
    {
     "name": "stdout",
     "output_type": "stream",
     "text": [
      "x:  1\n",
      "y:  14\n"
     ]
    }
   ],
   "source": [
    "myFunction(1,14)"
   ]
  },
  {
   "cell_type": "code",
   "execution_count": 13,
   "id": "809091ca",
   "metadata": {
    "scrolled": true
   },
   "outputs": [
    {
     "ename": "TypeError",
     "evalue": "myFunction() missing 1 required positional argument: 'x'",
     "output_type": "error",
     "traceback": [
      "\u001b[1;31m---------------------------------------------------------------------------\u001b[0m",
      "\u001b[1;31mTypeError\u001b[0m                                 Traceback (most recent call last)",
      "Input \u001b[1;32mIn [13]\u001b[0m, in \u001b[0;36m<cell line: 1>\u001b[1;34m()\u001b[0m\n\u001b[1;32m----> 1\u001b[0m \u001b[43mmyFunction\u001b[49m\u001b[43m(\u001b[49m\u001b[43m)\u001b[49m\n",
      "\u001b[1;31mTypeError\u001b[0m: myFunction() missing 1 required positional argument: 'x'"
     ]
    }
   ],
   "source": [
    "myFunction() #will generate error required atleast one value"
   ]
  },
  {
   "cell_type": "code",
   "execution_count": 15,
   "id": "b7816aff",
   "metadata": {},
   "outputs": [],
   "source": [
    "def name(firstname,lastname):\n",
    "    print(firstname,lastname)\n"
   ]
  },
  {
   "cell_type": "code",
   "execution_count": 19,
   "id": "b8eee5cb",
   "metadata": {},
   "outputs": [
    {
     "name": "stdout",
     "output_type": "stream",
     "text": [
      "Aditya Bangare\n"
     ]
    }
   ],
   "source": [
    "name(lastname=\"Bangare\",firstname=\"Aditya\") #keyword argument send specific value to specific index"
   ]
  },
  {
   "cell_type": "code",
   "execution_count": 21,
   "id": "df3a515c",
   "metadata": {},
   "outputs": [
    {
     "name": "stdout",
     "output_type": "stream",
     "text": [
      "Aditya Bangare\n"
     ]
    }
   ],
   "source": [
    "name(firstname=\"Aditya\",lastname=\"Bangare\")"
   ]
  },
  {
   "cell_type": "code",
   "execution_count": 23,
   "id": "7104b42e",
   "metadata": {},
   "outputs": [
    {
     "name": "stdout",
     "output_type": "stream",
     "text": [
      "Aditya Bangare\n"
     ]
    }
   ],
   "source": [
    "name(\"Aditya\",\"Bangare\") #send value by "
   ]
  },
  {
   "cell_type": "code",
   "execution_count": 25,
   "id": "bca443c9",
   "metadata": {},
   "outputs": [],
   "source": [
    "# *args for passing multiple values,*args is non-keyword argument\n",
    "def myFun(*mahindra):\n",
    "    for arg in mahindra:\n",
    "        print(arg)"
   ]
  },
  {
   "cell_type": "code",
   "execution_count": 27,
   "id": "bca3523e",
   "metadata": {},
   "outputs": [
    {
     "name": "stdout",
     "output_type": "stream",
     "text": [
      "scorpio\n",
      "Thar\n",
      "xuv700\n",
      "bolero\n"
     ]
    }
   ],
   "source": [
    "myFun(\"scorpio\",\"Thar\",\"xuv700\",\"bolero\")"
   ]
  },
  {
   "cell_type": "code",
   "execution_count": 32,
   "id": "b05657e0",
   "metadata": {},
   "outputs": [],
   "source": [
    "# **kwargs for passing multiple values, **kwargs is keyword argument\n",
    "def myCar(**cars):\n",
    "    for key,value in cars.items():\n",
    "        print(\"%s = %s\" % (key,value))"
   ]
  },
  {
   "cell_type": "code",
   "execution_count": 34,
   "id": "75467a92",
   "metadata": {},
   "outputs": [
    {
     "name": "stdout",
     "output_type": "stream",
     "text": [
      "Mahindra = Scorpio\n",
      "Tata = Harrier\n",
      "Hyundai = i20\n"
     ]
    }
   ],
   "source": [
    "myCar(Mahindra= \"Scorpio\", Tata=\"Harrier\", Hyundai=\"i20\")"
   ]
  },
  {
   "cell_type": "code",
   "execution_count": 36,
   "id": "aed5cbdb",
   "metadata": {},
   "outputs": [],
   "source": [
    "#write python fuunction to find max of three numbers\n",
    "def max_of_two(x,y):\n",
    "    if x>y:\n",
    "        return x\n",
    "    return y\n",
    "def max_of_three(x,y,z):\n",
    "    return max_of_two(x,max_of_two(y,z))"
   ]
  },
  {
   "cell_type": "code",
   "execution_count": 39,
   "id": "1df1fc6a",
   "metadata": {},
   "outputs": [
    {
     "data": {
      "text/plain": [
       "3"
      ]
     },
     "execution_count": 39,
     "metadata": {},
     "output_type": "execute_result"
    }
   ],
   "source": [
    "max_of_three(1,2,3)"
   ]
  },
  {
   "cell_type": "code",
   "execution_count": 41,
   "id": "0a8eb955",
   "metadata": {},
   "outputs": [
    {
     "data": {
      "text/plain": [
       "-1"
      ]
     },
     "execution_count": 41,
     "metadata": {},
     "output_type": "execute_result"
    }
   ],
   "source": [
    "max_of_three(-43,-78,-1)"
   ]
  },
  {
   "cell_type": "code",
   "execution_count": 46,
   "id": "55b0a0b2",
   "metadata": {},
   "outputs": [
    {
     "name": "stdout",
     "output_type": "stream",
     "text": [
      "Enter the value a: 6\n",
      "Enter the value b: 4\n",
      "sum is 10 sub is 2 mul is 24\n"
     ]
    }
   ],
   "source": [
    "#define function accept two values and return add,sub,mul\n",
    "def result(a,b):\n",
    "    sum=a+b\n",
    "    sub=a-b\n",
    "    mul=a*b\n",
    "    print(\"sum is {0} sub is {1} mul is {2}\".format(sum,sub,mul))\n",
    "a=int(input(\"Enter the value a: \"))\n",
    "b=int(input(\"Enter the value b: \"))\n",
    "result(a,b)"
   ]
  },
  {
   "cell_type": "code",
   "execution_count": 54,
   "id": "a508e5c7",
   "metadata": {},
   "outputs": [],
   "source": [
    "#wap to sum all number in list\n",
    "def sum(numbers):\n",
    "    total=0\n",
    "    for x in numbers:\n",
    "        total += x\n",
    "    print(\"total=\",total)"
   ]
  },
  {
   "cell_type": "code",
   "execution_count": 56,
   "id": "64454688",
   "metadata": {},
   "outputs": [
    {
     "name": "stdout",
     "output_type": "stream",
     "text": [
      "total= 55\n"
     ]
    }
   ],
   "source": [
    "sum((1,2,3,4,5,6,7,8,9,10))"
   ]
  },
  {
   "cell_type": "code",
   "execution_count": 2,
   "id": "9be8c2d4",
   "metadata": {},
   "outputs": [],
   "source": [
    "#function for multiply all number in list\n",
    "def mul(numbers):\n",
    "    total=1\n",
    "    for x in numbers:\n",
    "        total*=x\n",
    "    print(\"total multiplication is:\",total)"
   ]
  },
  {
   "cell_type": "code",
   "execution_count": 3,
   "id": "f3aa4c2c",
   "metadata": {},
   "outputs": [
    {
     "name": "stdout",
     "output_type": "stream",
     "text": [
      "total multiplication is: 120\n"
     ]
    }
   ],
   "source": [
    "mul([1,2,3,4,5])"
   ]
  },
  {
   "cell_type": "code",
   "execution_count": 9,
   "id": "661884a3",
   "metadata": {
    "scrolled": true
   },
   "outputs": [
    {
     "name": "stdout",
     "output_type": "stream",
     "text": [
      "Enter the number: 8\n",
      "factorial= 40320\n"
     ]
    }
   ],
   "source": [
    "#write a python function to calculate factorial of number\n",
    "def factorial(n):\n",
    "    if n==0:\n",
    "        return 1\n",
    "    else:\n",
    "        return n*factorial(n-1)\n",
    "        print(n)\n",
    "n=int(input(\"Enter the number: \"))\n",
    "print(\"factorial=\",factorial(n))"
   ]
  },
  {
   "cell_type": "code",
   "execution_count": 8,
   "id": "f985a798",
   "metadata": {},
   "outputs": [
    {
     "name": "stdout",
     "output_type": "stream",
     "text": [
      "[1, 2, 3, 4, 5, 6]\n"
     ]
    }
   ],
   "source": [
    "#write a python function that takes list and return new list with unique element of first list\n",
    "def uniqueList(l):\n",
    "    x=[]\n",
    "    for a in l:\n",
    "        if a not in x:\n",
    "            x.append(a)\n",
    "    return x\n",
    "print(uniqueList([1,2,3,3,4,4,5,5,6]))  "
   ]
  },
  {
   "cell_type": "code",
   "execution_count": 9,
   "id": "4d4b06ad",
   "metadata": {},
   "outputs": [
    {
     "name": "stdout",
     "output_type": "stream",
     "text": [
      "[1, 2, 3, 4, 5, 6]\n"
     ]
    }
   ],
   "source": [
    "print(uniqueList([1,2,3,3,4,4,5,5,6])) "
   ]
  },
  {
   "cell_type": "code",
   "execution_count": 20,
   "id": "b0e62826",
   "metadata": {},
   "outputs": [
    {
     "name": "stdout",
     "output_type": "stream",
     "text": [
      "True\n"
     ]
    }
   ],
   "source": [
    "#write a python function that takes a number as parameter then later check number prime or not\n",
    "def prime(num):\n",
    "    if (num==1):\n",
    "        return False\n",
    "    elif (num==2):\n",
    "        return True\n",
    "    else:\n",
    "        for x in range(2,num):\n",
    "            if(num%x == 0):\n",
    "                return False\n",
    "        return True\n",
    "print(prime(3))   "
   ]
  },
  {
   "cell_type": "code",
   "execution_count": 26,
   "id": "e5b702e2",
   "metadata": {},
   "outputs": [
    {
     "name": "stdout",
     "output_type": "stream",
     "text": [
      "[2, 4, 6, 8]\n"
     ]
    }
   ],
   "source": [
    "#wap to print even numbers from given list\n",
    "def even(l):\n",
    "    enum=[]  #empty list\n",
    "    for n in l:\n",
    "        if n%2==0:\n",
    "            enum.append(n)  #push element in list\n",
    "    return enum  #print new list\n",
    "print(even([1,2,3,4,5,6,7,8,9]))"
   ]
  }
 ],
 "metadata": {
  "kernelspec": {
   "display_name": "Python 3 (ipykernel)",
   "language": "python",
   "name": "python3"
  },
  "language_info": {
   "codemirror_mode": {
    "name": "ipython",
    "version": 3
   },
   "file_extension": ".py",
   "mimetype": "text/x-python",
   "name": "python",
   "nbconvert_exporter": "python",
   "pygments_lexer": "ipython3",
   "version": "3.9.12"
  }
 },
 "nbformat": 4,
 "nbformat_minor": 5
}
