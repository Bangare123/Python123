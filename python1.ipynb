{
 "cells": [
  {
   "cell_type": "code",
   "execution_count": 4,
   "id": "c3a9ac99",
   "metadata": {},
   "outputs": [
    {
     "name": "stdout",
     "output_type": "stream",
     "text": [
      "1\n",
      "2\n",
      "3\n",
      "4\n",
      "5\n",
      "6\n",
      "7\n",
      "8\n",
      "9\n",
      "10\n",
      "11\n",
      "12\n",
      "13\n",
      "14\n"
     ]
    }
   ],
   "source": [
    "for i in range(1,15):\n",
    "    print (i)\n",
    "    "
   ]
  },
  {
   "cell_type": "code",
   "execution_count": 2,
   "id": "fe3c4391",
   "metadata": {
    "scrolled": true
   },
   "outputs": [
    {
     "name": "stdout",
     "output_type": "stream",
     "text": [
      "Enter mathematics marks: 54\n",
      "Enter science marks: 68\n",
      "Enter social science marks: 98\n",
      "Enter computer science marks: 78\n",
      "total= 298\n",
      "aggregate= 74.5\n",
      "First divison\n"
     ]
    }
   ],
   "source": [
    "#wap to enter the marks of student in four subjects then calculate the total and aggregate and display the grade\n",
    "#obtained by student if a student score aggregate >75% then grade is distinction if aggregate is below 75 grade \n",
    "#is first divison if aggregate is above 50 and 60 then grade is second division and if aggreagate is above 40 and\n",
    "#and belw 50 then 3rd divison else grade fail...\n",
    "mathematics=int(input(\"Enter mathematics marks: \"))\n",
    "science= int(input(\"Enter science marks: \"))\n",
    "social_science=int(input(\"Enter social science marks: \"))\n",
    "computer_science=int(input(\"Enter computer science marks: \"))\n",
    "\n",
    "total=mathematics+science+social_science+computer_science\n",
    "\n",
    "print(\"total=\",total)\n",
    "avg=float(total/4)\n",
    "print(\"aggregate=\",avg)\n",
    "if(avg>=75):\n",
    "    print(\"Distinction\")   \n",
    "elif(avg>=60 and avg<75):\n",
    "    print(\"First divison\")\n",
    "elif(avg>=50 and avg<60):\n",
    "    print(\"Second divison\")\n",
    "elif(avg>=40 and avg<50):\n",
    "    print(\"First division\")\n",
    "else:\n",
    "    print(\"Fail\")"
   ]
  },
  {
   "cell_type": "code",
   "execution_count": 5,
   "id": "50b1cef8",
   "metadata": {},
   "outputs": [
    {
     "name": "stdout",
     "output_type": "stream",
     "text": [
      "30\n",
      "10\n"
     ]
    }
   ],
   "source": [
    "a=10\n",
    "b=20\n",
    "print(a+b)\n",
    "print(b-a)"
   ]
  },
  {
   "cell_type": "code",
   "execution_count": 6,
   "id": "260314f8",
   "metadata": {},
   "outputs": [
    {
     "name": "stdout",
     "output_type": "stream",
     "text": [
      "30\n"
     ]
    }
   ],
   "source": [
    "a=int(10)\n",
    "b=int(20)\n",
    "c=a+b\n",
    "print(c)"
   ]
  },
  {
   "cell_type": "code",
   "execution_count": 2,
   "id": "9e0368a0",
   "metadata": {},
   "outputs": [
    {
     "name": "stdout",
     "output_type": "stream",
     "text": [
      "Enter number:56\n",
      "Enter number:65\n",
      "121\n"
     ]
    }
   ],
   "source": [
    "a=int(input(\"Enter number:\"))\n",
    "b=int(input(\"Enter number:\"))\n",
    "c=a+b\n",
    "print(c)"
   ]
  },
  {
   "cell_type": "code",
   "execution_count": 10,
   "id": "657a7278",
   "metadata": {},
   "outputs": [
    {
     "name": "stdout",
     "output_type": "stream",
     "text": [
      "Enter number1:10\n",
      "Enter number2:20\n",
      "-10\n"
     ]
    }
   ],
   "source": [
    "First_no=int(input(\"Enter number1:\"))\n",
    "Second_no=int(input(\"Enter number2:\"))\n",
    "Sub=First_no-Second_no\n",
    "print(Sub)"
   ]
  },
  {
   "cell_type": "code",
   "execution_count": 1,
   "id": "f704485f",
   "metadata": {},
   "outputs": [
    {
     "name": "stdout",
     "output_type": "stream",
     "text": [
      "Enter number5\n",
      "Enter number3\n",
      "15\n"
     ]
    }
   ],
   "source": [
    "First_mul=int(input(\"Enter number\"))\n",
    "Second_mul=int(input(\"Enter number\"))\n",
    "mul=First_mul*Second_mul\n",
    "print(mul)"
   ]
  },
  {
   "cell_type": "code",
   "execution_count": 5,
   "id": "57d002bc",
   "metadata": {},
   "outputs": [
    {
     "name": "stdout",
     "output_type": "stream",
     "text": [
      "Enter first side of traingle. 3\n",
      "Enter second side of triangle. 5\n",
      "Enter third side of triangle. 6\n",
      "3.0 5.0 6.0\n",
      "7.483314773547883\n"
     ]
    }
   ],
   "source": [
    "#wap to calculate area of triangle using Herons formula\n",
    "a=float(input(\"Enter first side of traingle. \"))\n",
    "b=float(input(\"Enter second side of triangle. \"))\n",
    "c=float(input(\"Enter third side of triangle. \"))\n",
    "print(a,b,c)\n",
    "s=(a+b+c)/2\n",
    "area_of_triangle=(s*(s-a)*(s-b)*(s-c))**0.5\n",
    "print(area_of_triangle)"
   ]
  },
  {
   "cell_type": "code",
   "execution_count": 10,
   "id": "f38f58e3",
   "metadata": {},
   "outputs": [
    {
     "name": "stdout",
     "output_type": "stream",
     "text": [
      "Enter radius: 12\n",
      "\tradius= 12.0\n",
      "\n",
      "\tarea_of_circle= 452.15999999999997\n",
      "\n",
      "\tcircumference= 75.36\n"
     ]
    }
   ],
   "source": [
    "#wap to calculate area of circle\n",
    "radius=float(input(\"Enter radius: \"))\n",
    "print(\"\\tradius=\",radius)\n",
    "area_of_circle=3.14*radius*radius\n",
    "circumference=2*3.14*radius\n",
    "print(\"\\n\\tarea_of_circle=\",area_of_circle)\n",
    "print(\"\\n\\tcircumference=\",circumference)"
   ]
  },
  {
   "cell_type": "code",
   "execution_count": 12,
   "id": "346ee8f1",
   "metadata": {},
   "outputs": [
    {
     "name": "stdout",
     "output_type": "stream",
     "text": [
      "Enter number1233\n",
      "\n",
      "\tnum= 1233\n",
      "\n",
      "\tdigit= 3\n"
     ]
    }
   ],
   "source": [
    "#wap to print the digit at ones place of number\n",
    "num=int(input(\"Enter number\"))\n",
    "print(\"\\n\\tnum=\",num)\n",
    "digit=num%10\n",
    "print(\"\\n\\tdigit=\",digit)"
   ]
  },
  {
   "cell_type": "code",
   "execution_count": 1,
   "id": "a057703f",
   "metadata": {},
   "outputs": [
    {
     "name": "stdout",
     "output_type": "stream",
     "text": [
      "\tEnter number1233\n",
      "\n",
      "\tnum1= 1233\n",
      "\n",
      "\tdigit1= 33\n"
     ]
    }
   ],
   "source": [
    "#wap to print digit at two places\n",
    "num1=int(input(\"\\tEnter number\"))\n",
    "print(\"\\n\\tnum1=\",num1)\n",
    "digit1=num1%100\n",
    "print(\"\\n\\tdigit1=\",digit1)"
   ]
  },
  {
   "cell_type": "code",
   "execution_count": 18,
   "id": "71f602ea",
   "metadata": {},
   "outputs": [
    {
     "name": "stdout",
     "output_type": "stream",
     "text": [
      "Enter number: 15\n",
      "Enter number: 35\n",
      "before 15 35\n",
      "after 35 15\n"
     ]
    }
   ],
   "source": [
    "#wap to swap two digit\n",
    "a=int(input(\"Enter number: \"))\n",
    "b=int(input(\"Enter number: \"))\n",
    "print(\"before\",a,b)\n",
    "temp=a\n",
    "a=b\n",
    "b=temp\n",
    "print(\"after\",a,b)"
   ]
  },
  {
   "cell_type": "code",
   "execution_count": 19,
   "id": "0cd13dfe",
   "metadata": {},
   "outputs": [
    {
     "name": "stdout",
     "output_type": "stream",
     "text": [
      "Enter number: 25\n",
      "Enter number: 35\n",
      "before 25 35\n",
      "after 35 25\n"
     ]
    }
   ],
   "source": [
    "#wap to swap without using third variable\n",
    "a=int(input(\"Enter number: \"))\n",
    "b=int(input(\"Enter number: \"))\n",
    "print(\"before\",a,b)\n",
    "a,b=b,a\n",
    "print(\"after\",a,b)\n"
   ]
  },
  {
   "cell_type": "code",
   "execution_count": 4,
   "id": "f9b46976",
   "metadata": {},
   "outputs": [
    {
     "name": "stdout",
     "output_type": "stream",
     "text": [
      "maths mark: 68\n",
      "physics mark: 59\n",
      "chemistry mark: 75\n",
      "biology mark: 85\n",
      "\n",
      "Average of subject: 71.75\n"
     ]
    }
   ],
   "source": [
    "#average of four subject\n",
    "maths=float(input(\"maths mark: \"))\n",
    "physics=float(input(\"physics mark: \"))\n",
    "chemistry=float(input(\"chemistry mark: \"))\n",
    "biology=float(input(\"biology mark: \"))\n",
    "total=maths+physics+chemistry+biology\n",
    "avg=total/4\n",
    "print(\"\\nAverage of subject:\",avg)"
   ]
  },
  {
   "cell_type": "code",
   "execution_count": 2,
   "id": "72de0994",
   "metadata": {},
   "outputs": [
    {
     "name": "stdout",
     "output_type": "stream",
     "text": [
      "pass\n"
     ]
    }
   ],
   "source": [
    "percentage=65\n",
    "if(percentage>35):\n",
    "    print(\"pass\")\n"
   ]
  },
  {
   "cell_type": "code",
   "execution_count": 3,
   "id": "623b0110",
   "metadata": {},
   "outputs": [
    {
     "name": "stdout",
     "output_type": "stream",
     "text": [
      "fail\n"
     ]
    }
   ],
   "source": [
    "percent=25\n",
    "if(percent>35):\n",
    "    print(\"pass\")\n",
    "else:\n",
    "    print(\"fail\")\n",
    "    "
   ]
  },
  {
   "cell_type": "code",
   "execution_count": 4,
   "id": "a9a919bf",
   "metadata": {},
   "outputs": [
    {
     "name": "stdout",
     "output_type": "stream",
     "text": [
      "pass\n"
     ]
    }
   ],
   "source": [
    "percent=45\n",
    "if(percent>35):\n",
    "    print(\"pass\")\n",
    "else: \n",
    "    print(\"fail\")"
   ]
  },
  {
   "cell_type": "code",
   "execution_count": 5,
   "id": "bdbfa0fa",
   "metadata": {},
   "outputs": [
    {
     "name": "stdout",
     "output_type": "stream",
     "text": [
      "2\n"
     ]
    }
   ],
   "source": [
    "x=1\n",
    "if(x>0):\n",
    "    x=x+1\n",
    "print(x)"
   ]
  },
  {
   "cell_type": "code",
   "execution_count": 11,
   "id": "b84d04a3",
   "metadata": {},
   "outputs": [
    {
     "name": "stdout",
     "output_type": "stream",
     "text": [
      "\tEnter age:18\n",
      "\n",
      "\tEligible to vote\n"
     ]
    }
   ],
   "source": [
    "#wap to program to determine person eligible to vote or not\n",
    "age=int(input(\"\\tEnter age:\"))\n",
    "if(age>=18):\n",
    "    print(\"\\n\\tEligible to vote\")\n",
    "else:\n",
    "    print(\"\\tNot eligible\")\n",
    "\n"
   ]
  },
  {
   "cell_type": "code",
   "execution_count": 7,
   "id": "3f706431",
   "metadata": {},
   "outputs": [
    {
     "name": "stdout",
     "output_type": "stream",
     "text": [
      "\tEnter the number1: 25\n",
      "\tEnter the number2: 12\n",
      "25 is greater.\n"
     ]
    }
   ],
   "source": [
    "#wap to find largest number among two number\n",
    "number1=int(input(\"\\tEnter the number1: \"))\n",
    "number2=int(input(\"\\tEnter the number2: \"))\n",
    "if(number1>number2):\n",
    "    print(number1, \"is greater.\")\n",
    "else:\n",
    "    print(number2, \"is greater.\")"
   ]
  },
  {
   "cell_type": "code",
   "execution_count": 28,
   "id": "91c0f368",
   "metadata": {
    "scrolled": true
   },
   "outputs": [
    {
     "name": "stdout",
     "output_type": "stream",
     "text": [
      "Enter the number between 1-7: 5\n",
      "friday\n"
     ]
    }
   ],
   "source": [
    "#wap that promt the user to enter a number between 1-7 and then \n",
    "#display corresponnding day of week\n",
    "num=int(input(\"Enter the number between 1-7: \"))\n",
    "if(num==1):\n",
    "    print(\"Monday\") \n",
    "elif(num==2):\n",
    "    print(\"Tuesday\")\n",
    "elif(num==3):\n",
    "    print(\"wednesday\")\n",
    "elif(num==4):\n",
    "    print(\"thursday\")\n",
    "elif(num==5):\n",
    "    print(\"friday\")\n",
    "elif(num==6):\n",
    "    print(\"saturday\")\n",
    "elif(num==7):\n",
    "    print(\"sunday\")\n",
    "else:\n",
    "    print(\"Invalid number\")"
   ]
  },
  {
   "cell_type": "code",
   "execution_count": 5,
   "id": "b8cabab9",
   "metadata": {
    "scrolled": true
   },
   "outputs": [
    {
     "name": "stdout",
     "output_type": "stream",
     "text": [
      "Enter character: e\n",
      "It is vowel\n"
     ]
    }
   ],
   "source": [
    "#wap to whether the character the given is vowel or not\n",
    "character=input(\"Enter character: \")\n",
    "if(character=='A' or character=='E' or character=='I' or character=='O' or character=='U' or \n",
    "   character=='a' or character=='e' or character=='i' or character=='o' or character=='u'):\n",
    "    print(\"It is vowel\")\n",
    "else:\n",
    "    print(\"Not vowel\")\n",
    "\n"
   ]
  },
  {
   "cell_type": "code",
   "execution_count": 18,
   "id": "1e901d53",
   "metadata": {},
   "outputs": [
    {
     "name": "stdout",
     "output_type": "stream",
     "text": [
      "4\n",
      "Not weird\n"
     ]
    }
   ],
   "source": [
    "n = int(input())\n",
    "if n%2==0:\n",
    "    \n",
    "    if n in range(2, 6):\n",
    "        print(\"Not weird\")\n",
    "    elif n in range(6,21):\n",
    "        print(\"Weird\")\n",
    "    elif(n>20):\n",
    "        print(\"Not Weird\")\n",
    "else:\n",
    "    print(\"Weird\")\n",
    "        "
   ]
  },
  {
   "cell_type": "code",
   "execution_count": 3,
   "id": "4071373e",
   "metadata": {},
   "outputs": [
    {
     "name": "stdout",
     "output_type": "stream",
     "text": [
      "Enter the number: -1\n",
      "-1 is negative\n"
     ]
    }
   ],
   "source": [
    "#wap to check given number is positive,negative or zero\n",
    "num=int(input(\"Enter the number: \"))\n",
    "if num>0:\n",
    "    print(num,\"is positive\")\n",
    "elif num<0:\n",
    "    print(num,\"is negative\")\n",
    "else:\n",
    "    print(num,\"is zero\")\n",
    "    "
   ]
  },
  {
   "cell_type": "code",
   "execution_count": 9,
   "id": "4f12d028",
   "metadata": {},
   "outputs": [
    {
     "name": "stdout",
     "output_type": "stream",
     "text": [
      "ENter the number: 5\n",
      "5 is odd number\n"
     ]
    }
   ],
   "source": [
    "#wap to check if a number is odd or even\n",
    "num=int(input(\"ENter the number: \"))\n",
    "if num%2==0:\n",
    "    print(\"{0} is even number\".format(num))\n",
    "if num%2!=0:\n",
    "    print(\"{0} is odd number\".format(num))"
   ]
  },
  {
   "cell_type": "code",
   "execution_count": 15,
   "id": "735d77c0",
   "metadata": {},
   "outputs": [
    {
     "name": "stdout",
     "output_type": "stream",
     "text": [
      "Enter the year: 1996\n",
      "1996 is a leap year\n"
     ]
    }
   ],
   "source": [
    "#wap to check leap year\n",
    "year=int(input(\"Enter the year: \"))\n",
    "if (year%4==0) or (year%400==0):\n",
    "    print(\"{0} is a leap year\".format(year))\n",
    "else: \n",
    "    print(\"{0} is not leap year\".format(year))"
   ]
  },
  {
   "cell_type": "code",
   "execution_count": 24,
   "id": "927eb07e",
   "metadata": {},
   "outputs": [
    {
     "name": "stdout",
     "output_type": "stream",
     "text": [
      "[1, 2, 3, 4, 5, 6, 7, 8]\n",
      "[1, 4, 7]\n"
     ]
    }
   ],
   "source": [
    "list_a=[1,2,3,4,5,6,7,8]\n",
    "print(list_a)\n",
    "seq=list_a[::3]\n",
    "print(seq)\n"
   ]
  },
  {
   "cell_type": "code",
   "execution_count": 10,
   "id": "001d12bc",
   "metadata": {},
   "outputs": [
    {
     "name": "stdout",
     "output_type": "stream",
     "text": [
      "Enter the list: 1233654\n",
      "['1', '2', '3', '3', '6', '5', '4']\n"
     ]
    }
   ],
   "source": [
    "list_2=list(input(\"Enter the list: \"))\n",
    "print(list_2)"
   ]
  },
  {
   "cell_type": "code",
   "execution_count": 3,
   "id": "e6da1e26",
   "metadata": {},
   "outputs": [
    {
     "name": "stdout",
     "output_type": "stream",
     "text": [
      "Z\n",
      "J\n",
      "['A', 'C', 'E', 'G', 'I', 'K', 'M', 'O', 'Q', 'S', 'U', 'W', 'Y']\n",
      "['A', 'C', 'E', 'G', 'I', 'K', 'M', 'O']\n",
      "['A', 'B', 'C', 'D', 'E', 'F', 'G', 'H', 'I', 'J', 'K', 'L', 'M', 'N', 'O', 'P']\n",
      "['Z', 'Y', 'X', 'W', 'V', 'U', 'T', 'S', 'R', 'Q', 'P', 'O', 'N', 'M', 'L', 'K', 'J', 'I', 'H', 'G', 'F', 'E', 'D', 'C', 'B']\n",
      "['Z', 'Y', 'X', 'W', 'V', 'U', 'T', 'S', 'R', 'Q', 'P', 'O', 'N', 'M', 'L', 'K', 'J', 'I', 'H', 'G', 'F', 'E', 'D', 'C', 'B', 'A']\n"
     ]
    }
   ],
   "source": [
    "#create a list alpha which contain a alphabet characters;\n",
    "alpha=[\"A\",\"B\",\"C\",\"D\",\"E\",\"F\",\"G\",\"H\",\"I\",\"J\",\"K\",\"L\",\"M\",\"N\",\"O\",\"P\",\"Q\",\"R\",\"S\",\"T\",\"U\",\"V\",\"W\",\"X\",\"Y\",\"Z\"]\n",
    "print(alpha[25])\n",
    "print(alpha[9])\n",
    "print(alpha[0:25:2])\n",
    "print(alpha[0:16:2])\n",
    "print(alpha[:16:1])\n",
    "print(alpha[-1:-26:-1])\n",
    "alpha.reverse()\n",
    "print(alpha)"
   ]
  },
  {
   "cell_type": "code",
   "execution_count": 31,
   "id": "12bcf783",
   "metadata": {},
   "outputs": [
    {
     "name": "stdout",
     "output_type": "stream",
     "text": [
      "num_list:  [100, 200, 300, 400, 500, 600, 700, 800, 900, 1000]\n",
      "[200, 300]\n",
      "[100, 200, 300, 400, 500, 600, 700, 800, 900, 1000]\n",
      "[300, 400, 500, 600]\n",
      "[200, 500, 800]\n",
      "[100, 200, 300, 400, 500, 600, 700, 800, 900, 1000, 1100]\n",
      "[100, 200, 300, 400, 500, 600, 700, 800, 900, 1000, 1100, 1200]\n",
      "[100, 200, 300, 400, 500, 600, 700, 800, 900, 1000, 1200]\n",
      "[100, 200, 300, 400, 500, 600, 700, 900, 1000, 1200]\n",
      "[100, 200, 300, 400, 500, 700, 900, 1000, 1200]\n"
     ]
    }
   ],
   "source": [
    "#create list num list\n",
    "num_list=[100,200,300,400,500,600,700,800,900,1000]\n",
    "print(\"num_list: \",num_list)\n",
    "print(num_list[1:3])\n",
    "print(num_list[::])\n",
    "print(num_list[2:6])\n",
    "print(num_list[1::3])\n",
    "num_list.append(1100)\n",
    "print(num_list)\n",
    "num_list.append(1200)\n",
    "print(num_list)\n",
    "del num_list[10]\n",
    "print(num_list)\n",
    "num_list.remove(800)\n",
    "print(num_list)\n",
    "num_list.remove(600)\n",
    "print(num_list)\n"
   ]
  },
  {
   "cell_type": "code",
   "execution_count": 19,
   "id": "115068be",
   "metadata": {},
   "outputs": [
    {
     "data": {
      "text/plain": [
       "[1, 2, 3, 4, 5, 1, 2, 3, 4, 5, 1, 2, 3, 4, 5, 1, 2, 3, 4, 5]"
      ]
     },
     "execution_count": 19,
     "metadata": {},
     "output_type": "execute_result"
    }
   ],
   "source": [
    "#repeat list\n",
    "l1 = [1,2,3,4,5]\n",
    "l2 = [6,7,8,9,10]\n",
    "\n",
    "l1*4\n",
    "\n"
   ]
  },
  {
   "cell_type": "code",
   "execution_count": 42,
   "id": "a0c6446b",
   "metadata": {},
   "outputs": [
    {
     "data": {
      "text/plain": [
       "5"
      ]
     },
     "execution_count": 42,
     "metadata": {},
     "output_type": "execute_result"
    }
   ],
   "source": [
    "len(l1)"
   ]
  },
  {
   "cell_type": "code",
   "execution_count": 5,
   "id": "3d7710d8",
   "metadata": {},
   "outputs": [
    {
     "data": {
      "text/plain": [
       "[1, 2, 3, 4, 5, 6, 7, 8, 9, 10]"
      ]
     },
     "execution_count": 5,
     "metadata": {},
     "output_type": "execute_result"
    }
   ],
   "source": [
    "l1+l2"
   ]
  },
  {
   "cell_type": "code",
   "execution_count": 8,
   "id": "087aaadb",
   "metadata": {},
   "outputs": [
    {
     "name": "stdout",
     "output_type": "stream",
     "text": [
      "True\n",
      "False\n"
     ]
    }
   ],
   "source": [
    "print(2 in l1)\n",
    "print(12 in l2)"
   ]
  },
  {
   "cell_type": "code",
   "execution_count": 14,
   "id": "6ac1cc1f",
   "metadata": {},
   "outputs": [
    {
     "name": "stdout",
     "output_type": "stream",
     "text": [
      "1\n",
      "2\n",
      "3\n",
      "4\n",
      "5\n",
      "6\n",
      "7\n",
      "8\n",
      "9\n",
      "10\n"
     ]
    }
   ],
   "source": [
    "for i in l1+l2:\n",
    "    print(i)"
   ]
  },
  {
   "cell_type": "code",
   "execution_count": 26,
   "id": "94c511a0",
   "metadata": {},
   "outputs": [
    {
     "name": "stdout",
     "output_type": "stream",
     "text": [
      "56\n",
      "['5', '6']\n"
     ]
    }
   ],
   "source": [
    "list_1=list(input())\n",
    "print(list_1)"
   ]
  },
  {
   "cell_type": "code",
   "execution_count": 29,
   "id": "bfe7d106",
   "metadata": {},
   "outputs": [
    {
     "name": "stdout",
     "output_type": "stream",
     "text": [
      "Enter the number of elements in the list:5\n",
      "Enter the item:ask \n",
      "Enter the item:a \n",
      "Enter the item:23f\n",
      "Enter the item:23r55\n",
      "Enter the item:4664\n",
      "printing the list items..\n",
      "ask   a   23f  23r55  4664  "
     ]
    }
   ],
   "source": [
    "#Declaring the empty list  \n",
    "l =[]  \n",
    "#Number of elements will be entered by the user    \n",
    "n = int(input(\"Enter the number of elements in the list:\"))  \n",
    "# for loop to take the input  \n",
    "for i in range(0,n):     \n",
    "    # The input is taken from the user and added to the list as the item  \n",
    "    l.append(input(\"Enter the item:\"))     \n",
    "print(\"printing the list items..\")   \n",
    "# traversal loop to print the list items    \n",
    "for i in l:   \n",
    "    print(i, end = \"  \")"
   ]
  },
  {
   "cell_type": "code",
   "execution_count": 33,
   "id": "64e73e36",
   "metadata": {},
   "outputs": [
    {
     "name": "stdout",
     "output_type": "stream",
     "text": [
      "printing original list: \n",
      "0 1 2 3 4 \n",
      "printing the list after the removal of first element...\n",
      "0 1 3 4 "
     ]
    }
   ],
   "source": [
    "list = [0,1,2,3,4]     \n",
    "print(\"printing original list: \");    \n",
    "for i in list:    \n",
    "    print(i,end=\" \")    \n",
    "list.remove(2)    \n",
    "print(\"\\nprinting the list after the removal of first element...\")    \n",
    "for i in list:    \n",
    "    print(i,end=\" \")  "
   ]
  },
  {
   "cell_type": "code",
   "execution_count": 46,
   "id": "256048f5",
   "metadata": {},
   "outputs": [
    {
     "name": "stdout",
     "output_type": "stream",
     "text": [
      "0 1 2 3 5 \n",
      " [0, 1, 2, 3, 5]\n"
     ]
    }
   ],
   "source": [
    "list_a=[0,1,2,3,5]\n",
    "for i in list_a:\n",
    "    print(i, end=\" \")\n",
    "print(\"\\n\",list_a)\n",
    "    "
   ]
  },
  {
   "cell_type": "code",
   "execution_count": 22,
   "id": "29304208",
   "metadata": {
    "scrolled": true
   },
   "outputs": [
    {
     "name": "stdout",
     "output_type": "stream",
     "text": [
      "8\n",
      "1\n",
      "7\n",
      "[1, 2, 3, 4, 0, 8, 8, 7]\n",
      "[7, 6, 11, 5, 4, 3, 2, 1]\n"
     ]
    }
   ],
   "source": [
    "list_p=[1,2,3,4,5,6,7]\n",
    "list_q=[1,2,3,4,0,8,8,7,]\n",
    "print(max(list_q))\n",
    "print(min(list_p))\n",
    "print(len(list_p))\n",
    "list_p.reverse()\n",
    "print(list_q)\n",
    "list_q.count(8)\n",
    "list_p.insert(2,11)\n",
    "print(list_p)"
   ]
  },
  {
   "cell_type": "code",
   "execution_count": 7,
   "id": "0e049368",
   "metadata": {},
   "outputs": [
    {
     "name": "stdout",
     "output_type": "stream",
     "text": [
      "Hello Aditya\n",
      "H\n",
      "ytho\n",
      "yhnpormi\n",
      "updated string:  Hello Aditya\n"
     ]
    }
   ],
   "source": [
    "var1=\"Hello Aditya\"\n",
    "var2=\"Python programming\"\n",
    "var3=\"Hello python\"\n",
    "print(var1)\n",
    "print(var1[0])\n",
    "print(var2[1:5])\n",
    "print(var2[1:16:2])\n",
    "print(\"updated string: \",var3[:6]+'Aditya')"
   ]
  },
  {
   "cell_type": "code",
   "execution_count": 11,
   "id": "d09576a3",
   "metadata": {},
   "outputs": [
    {
     "name": "stdout",
     "output_type": "stream",
     "text": [
      "abc 2\n"
     ]
    }
   ],
   "source": [
    "name='abc'\n",
    "number=2\n",
    "print('%s %d' % (name,number))\n"
   ]
  },
  {
   "cell_type": "code",
   "execution_count": 14,
   "id": "6c7a4a5f",
   "metadata": {},
   "outputs": [
    {
     "name": "stdout",
     "output_type": "stream",
     "text": [
      "My name is Aditya and my age is 22.\n"
     ]
    }
   ],
   "source": [
    "print(\"My name is %s and my age is %d.\" % ('Aditya',22))"
   ]
  },
  {
   "cell_type": "code",
   "execution_count": 18,
   "id": "2133d203",
   "metadata": {},
   "outputs": [
    {
     "name": "stdout",
     "output_type": "stream",
     "text": [
      " THis is long string that is made uup of several\n",
      "liines and non printable character such as tab(\t) and they willl\n",
      " show wheter explicitly newline(\n",
      ") within a few.\n"
     ]
    }
   ],
   "source": [
    "para_str = \"\"\" THis is long string that is made uup of several\n",
    "liines and non printable character such as tab(\\t) and they willl\n",
    " show wheter explicitly newline(\\n) within a few.\"\"\"\n",
    "print(para_str)"
   ]
  },
  {
   "cell_type": "code",
   "execution_count": 21,
   "id": "54c08304",
   "metadata": {},
   "outputs": [
    {
     "name": "stdout",
     "output_type": "stream",
     "text": [
      "c:\\\\nowhere\n",
      "c:\\nowhere\n"
     ]
    }
   ],
   "source": [
    "print(r'c:\\\\nowhere')\n",
    "print('c:\\\\nowhere')"
   ]
  },
  {
   "cell_type": "code",
   "execution_count": 25,
   "id": "2c4db210",
   "metadata": {},
   "outputs": [
    {
     "name": "stdout",
     "output_type": "stream",
     "text": [
      "Hello python programming\n"
     ]
    }
   ],
   "source": [
    "txt=\"hello python programming\"\n",
    "x=txt.capitalize()#convert uppar case to only first letter of string\n",
    "print(x)"
   ]
  },
  {
   "cell_type": "code",
   "execution_count": 26,
   "id": "941e3a1e",
   "metadata": {},
   "outputs": [
    {
     "name": "stdout",
     "output_type": "stream",
     "text": [
      "hello python programming\n"
     ]
    }
   ],
   "source": [
    "txt=\"Hello Python programming\"\n",
    "x=txt.casefold()#convert uppercase to lowecase of all starting of words\n",
    "print(x)"
   ]
  },
  {
   "cell_type": "code",
   "execution_count": 31,
   "id": "46132dc5",
   "metadata": {},
   "outputs": [
    {
     "name": "stdout",
     "output_type": "stream",
     "text": [
      "                                     banana                                     \n"
     ]
    }
   ],
   "source": [
    "txt=\"banana\"\n",
    "x=txt.center(80)#shift by 80 character to forward\n",
    "print(x)"
   ]
  },
  {
   "cell_type": "code",
   "execution_count": 35,
   "id": "92fde556",
   "metadata": {},
   "outputs": [
    {
     "name": "stdout",
     "output_type": "stream",
     "text": [
      "4\n"
     ]
    }
   ],
   "source": [
    "txt=\"Hello this is apple and its color is red.\"\n",
    "x=txt.count(\"s\")#count how many time a string/letter appear in sentence\n",
    "print(x)"
   ]
  },
  {
   "cell_type": "code",
   "execution_count": 36,
   "id": "5ac27f11",
   "metadata": {},
   "outputs": [
    {
     "name": "stdout",
     "output_type": "stream",
     "text": [
      "b'My name is Aditya'\n"
     ]
    }
   ],
   "source": [
    "txt=\"My name is Aditya\"\n",
    "x=txt.encode()\n",
    "print(x)"
   ]
  },
  {
   "cell_type": "code",
   "execution_count": 49,
   "id": "c988d91b",
   "metadata": {},
   "outputs": [
    {
     "name": "stdout",
     "output_type": "stream",
     "text": [
      "True\n",
      "False\n"
     ]
    }
   ],
   "source": [
    "txt1=\"Aditya123\"\n",
    "txt2=\"123456\"\n",
    "x1=txt1.isalnum()#check alphanumeric values print true else false\n",
    "x2=txt2.isalpha()#check alphabet are available or not print true else false\n",
    "print(x1)\n",
    "print(x2)"
   ]
  },
  {
   "cell_type": "code",
   "execution_count": 51,
   "id": "6af04aa4",
   "metadata": {},
   "outputs": [
    {
     "name": "stdout",
     "output_type": "stream",
     "text": [
      "ADITYA\n",
      "aditya\n"
     ]
    }
   ],
   "source": [
    "txt=\"aditya\"\n",
    "txt2=\"ADITYA\"\n",
    "x=txt.upper()#convert lowercase to uppercase\n",
    "x2=txt2.lower()#convert uppercase to lowercase\n",
    "print(x)\n",
    "print(x2)"
   ]
  },
  {
   "cell_type": "code",
   "execution_count": 53,
   "id": "529593aa",
   "metadata": {},
   "outputs": [
    {
     "name": "stdout",
     "output_type": "stream",
     "text": [
      "hELLO THIS iS PYthON claSS\n"
     ]
    }
   ],
   "source": [
    "txt=\"Hello this Is pyTHon CLAss\"\n",
    "x=txt.swapcase()#convert upper to lower and lower to uppper\n",
    "print(x)"
   ]
  },
  {
   "cell_type": "code",
   "execution_count": 55,
   "id": "148ca2e9",
   "metadata": {},
   "outputs": [
    {
     "name": "stdout",
     "output_type": "stream",
     "text": [
      "Enter the stringaDiTyA\n",
      "before swap:  aDiTyA\n",
      "After swap:  AdItYa\n"
     ]
    }
   ],
   "source": [
    "txt=input(\"Enter the string\")\n",
    "print(\"before swap: \",txt)\n",
    "x=txt.swapcase()\n",
    "print(\"After swap: \",x)"
   ]
  },
  {
   "cell_type": "code",
   "execution_count": 59,
   "id": "afe51ce2",
   "metadata": {},
   "outputs": [
    {
     "name": "stdout",
     "output_type": "stream",
     "text": [
      "Enter the string: Aditya RAVI bangare\n",
      "before:  Aditya RAVI bangare\n",
      "After:  ADITYA RAVI BANGARE\n",
      "after:  aditya ravi bangare\n"
     ]
    }
   ],
   "source": [
    "txt=input(\"Enter the string: \")\n",
    "print(\"before: \",txt)\n",
    "x1=txt.upper()\n",
    "x2=txt.lower()\n",
    "print(\"After: \",x1)\n",
    "print(\"after: \",x2)"
   ]
  },
  {
   "cell_type": "code",
   "execution_count": 61,
   "id": "62342e7a",
   "metadata": {},
   "outputs": [
    {
     "name": "stdout",
     "output_type": "stream",
     "text": [
      "Before:  I like banana\n",
      "After:  I like apple\n"
     ]
    }
   ],
   "source": [
    "txt=\"I like banana\"\n",
    "print(\"Before: \",txt)\n",
    "x=txt.replace(\"banana\",\"apple\")#replace given string\n",
    "print(\"After: \",x)"
   ]
  },
  {
   "cell_type": "code",
   "execution_count": 64,
   "id": "0000460e",
   "metadata": {},
   "outputs": [
    {
     "name": "stdout",
     "output_type": "stream",
     "text": [
      ":Aditya_Ravi_Bangare.\n"
     ]
    }
   ],
   "source": [
    "myTuple=(\":Aditya\",\"Ravi\",\"Bangare.\")\n",
    "x=\"_\".join(myTuple)#join string\n",
    "print(x)"
   ]
  },
  {
   "cell_type": "code",
   "execution_count": 66,
   "id": "138c6d9a",
   "metadata": {},
   "outputs": [
    {
     "name": "stdout",
     "output_type": "stream",
     "text": [
      "True\n"
     ]
    }
   ],
   "source": [
    "txt=\"Welcome to python \"\n",
    "x=txt.startswith(\"Welcome\")#check string start with given word or not\n",
    "print(x)"
   ]
  },
  {
   "cell_type": "code",
   "execution_count": null,
   "id": "86468155",
   "metadata": {},
   "outputs": [],
   "source": [
    "txt=\"\\u0010\" #\\u for unicode 00 is compulsory after \\u\n",
    "x"
   ]
  },
  {
   "cell_type": "code",
   "execution_count": 70,
   "id": "0fdf6304",
   "metadata": {},
   "outputs": [
    {
     "name": "stdout",
     "output_type": "stream",
     "text": [
      "False\n",
      "False\n",
      "False\n",
      "6\n"
     ]
    }
   ],
   "source": [
    "txt=\"Hello this is title!\"\n",
    "txt1=\"HElllo\\n are u\"\n",
    "x=txt.istitle()\n",
    "y=txt.isdigit()\n",
    "z=txt1.isprintable()\n",
    "a=txt.rfind(\"this\")\n",
    "print(x)\n",
    "print(y)\n",
    "print(z)\n",
    "print(a)\n"
   ]
  },
  {
   "cell_type": "code",
   "execution_count": 72,
   "id": "cd596e19",
   "metadata": {},
   "outputs": [
    {
     "name": "stdout",
     "output_type": "stream",
     "text": [
      "('apple', 'banana', 'cherry', 'cherry')\n"
     ]
    }
   ],
   "source": [
    "thisTuple=(\"apple\",\"banana\",\"cherry\",\"cherry\")\n",
    "print(thisTuple)"
   ]
  },
  {
   "cell_type": "code",
   "execution_count": null,
   "id": "839d7222",
   "metadata": {},
   "outputs": [],
   "source": [
    "#tuple item\n",
    "#tuple items are ordered, unchangeble, and allow duplicate values.\n",
    "#tuple items are indexed the first item has index[0],second value is"
   ]
  }
 ],
 "metadata": {
  "kernelspec": {
   "display_name": "Python 3 (ipykernel)",
   "language": "python",
   "name": "python3"
  },
  "language_info": {
   "codemirror_mode": {
    "name": "ipython",
    "version": 3
   },
   "file_extension": ".py",
   "mimetype": "text/x-python",
   "name": "python",
   "nbconvert_exporter": "python",
   "pygments_lexer": "ipython3",
   "version": "3.9.12"
  }
 },
 "nbformat": 4,
 "nbformat_minor": 5
}
